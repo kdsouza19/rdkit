{
 "cells": [
  {
   "cell_type": "code",
   "execution_count": 2,
   "id": "22b5ca1e-8ec5-46be-bf57-3dc9531954d9",
   "metadata": {},
   "outputs": [
    {
     "name": "stdout",
     "output_type": "stream",
     "text": [
      "C:\\Users\\karen\\anaconda3\\envs\\my-rdkit-env\\python.exe\n"
     ]
    }
   ],
   "source": [
    "import sys\n",
    "print(sys.executable)"
   ]
  },
  {
   "cell_type": "code",
   "execution_count": 3,
   "id": "a322a91f-3142-44c1-bf3d-6da7bac5ebe8",
   "metadata": {},
   "outputs": [
    {
     "name": "stdout",
     "output_type": "stream",
     "text": [
      "Fingerprint for CC(=O)NC1=CC=C(C=C1)O: 4294967295\n"
     ]
    }
   ],
   "source": [
    "from rdkit import Chem\n",
    "from rdkit.Chem import AllChem\n",
    "from rdkit.Chem import rdFingerprintGenerator\n",
    "from rdkit import DataStructs\n",
    "\n",
    "\n",
    "smiles = 'CC(=O)NC1=CC=C(C=C1)O'\n",
    "mol = Chem.MolFromSmiles(smiles)\n",
    "\n",
    "# Initialize the RDKit fingerprint generator with specified bit size\n",
    "fpgen = AllChem.GetRDKitFPGenerator(fpSize=1024)\n",
    "\n",
    "# Generate the fingerprint\n",
    "fingerprint = fpgen.GetSparseFingerprint(mol)\n",
    "\n",
    "print(f\"Fingerprint for {smiles}: {len(fingerprint)}\")\n"
   ]
  },
  {
   "cell_type": "code",
   "execution_count": null,
   "id": "9a619f06-4cbb-4920-851c-d381a4e74079",
   "metadata": {},
   "outputs": [],
   "source": []
  }
 ],
 "metadata": {
  "kernelspec": {
   "display_name": "Python (my-rdkit-env)",
   "language": "python",
   "name": "my-rdkit-env"
  },
  "language_info": {
   "codemirror_mode": {
    "name": "ipython",
    "version": 3
   },
   "file_extension": ".py",
   "mimetype": "text/x-python",
   "name": "python",
   "nbconvert_exporter": "python",
   "pygments_lexer": "ipython3",
   "version": "3.13.0"
  }
 },
 "nbformat": 4,
 "nbformat_minor": 5
}
