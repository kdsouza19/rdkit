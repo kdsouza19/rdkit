{
 "cells": [
  {
   "cell_type": "code",
   "execution_count": 116,
   "id": "e7c15fa0-442b-4a05-b24b-9187de82f6f1",
   "metadata": {},
   "outputs": [],
   "source": [
    "from rdkit import Chem\n",
    "from rdkit.Chem import AllChem\n",
    "from rdkit.Chem import rdFingerprintGenerator\n",
    "from rdkit import DataStructs\n",
    "\n",
    "mols = [Chem.MolFromSmiles('CCOC'), Chem.MolFromSmiles('CCO'),\n",
    "Chem.MolFromSmiles('COC')]\n",
    "\n",
    "# Initialize generators \n",
    "rdfpgen = AllChem.GetRDKitFPGenerator()\n",
    "atfpgen = AllChem.GetAtomPairGenerator(fpSize=2048) \n",
    "morganfpgen = AllChem.GetMorganGenerator(radius=2,fpSize=2048)\n",
    "fmorganfpgen = AllChem.GetMorganGenerator(radius=2,fpSize=2048,atomInvariantsGenerator = rdFingerprintGenerator.GetMorganFeatureAtomInvGen())\n",
    "ttgen = AllChem.GetTopologicalTorsionGenerator(fpSize = 2048)\n",
    "\n"
   ]
  },
  {
   "cell_type": "code",
   "execution_count": null,
   "id": "55a27dc5-118c-41f5-9d0f-c97c9b990b77",
   "metadata": {},
   "outputs": [
    {
     "name": "stdout",
     "output_type": "stream",
     "text": [
      "Tanimoto Similarity (AllChem): 0.3333333333333333\n",
      "Tanimoto Similarity (rdFingerprintGenerator): 0.3333333333333333\n"
     ]
    }
   ],
   "source": [
    "from rdkit import Chem\n",
    "from rdkit.Chem import AllChem\n",
    "from rdkit.Chem.rdFingerprintGenerator import GetRDKitFPGenerator\n",
    "mol = Chem.MolFromSmiles(\"CCO\")  # Ethanol as an example molecule\n",
    "\n",
    "\n",
    "# Generate fingerprint\n",
    "fp_allchem = AllChem.RDKFingerprint(mol)\n",
    "\n",
    "# Evaluate similarity with another molecule\n",
    "mol2 = Chem.MolFromSmiles(\"CO\")  \n",
    "fp_allchem_2 = AllChem.RDKFingerprint(mol2)\n",
    "\n",
    "# Calculate Tanimoto similarity\n",
    "from rdkit.DataStructs import TanimotoSimilarity\n",
    "similarity_allchem = TanimotoSimilarity(fp_allchem, fp_allchem_2)\n",
    "print(\"Tanimoto Similarity (AllChem):\", similarity_allchem)\n",
    "\n",
    "\n",
    "# Initialize fingerprint generator\n",
    "rdkit_fp_gen = GetRDKitFPGenerator(maxPath=5)\n",
    "\n",
    "# Generate fingerprint\n",
    "fp_rdfpgen = rdkit_fp_gen.GetFingerprint(mol)\n",
    "\n",
    "# Evaluate similarity with another molecule\n",
    "fp_rdfpgen_2 = rdkit_fp_gen.GetFingerprint(mol2)\n",
    "similarity_rdfpgen = TanimotoSimilarity(fp_rdfpgen, fp_rdfpgen_2)\n",
    "print(\"Tanimoto Similarity (rdFingerprintGenerator):\", similarity_rdfpgen)\n",
    "\n"
   ]
  },
  {
   "cell_type": "code",
   "execution_count": null,
   "id": "457231fe-d2f4-4f2f-8802-2c1a6a24b9b1",
   "metadata": {
    "scrolled": true
   },
   "outputs": [
    {
     "name": "stdout",
     "output_type": "stream",
     "text": [
      "Tanimoto Similarity: 0.316\n"
     ]
    }
   ],
   "source": [
    "from rdkit import Chem\n",
    "from rdkit.Chem import AllChem\n",
    "from rdkit.Chem.rdFingerprintGenerator import GetRDKitFPGenerator\n",
    "from rdkit import DataStructs\n",
    "\n",
    "\n",
    "mol_benzene = Chem.MolFromSmiles(\"c1ccccc1\") \n",
    "mol_aniline = Chem.MolFromSmiles(\"c1ccc(cc1)N\")  \n",
    "\n",
    "# Generate fingerprints\n",
    "fp_allchem_benzene = AllChem.RDKFingerprint(mol_benzene)\n",
    "fp_rdfpgen_aniline = GetRDKitFPGenerator().GetFingerprint(mol_aniline)\n",
    "\n",
    "similarity = DataStructs.TanimotoSimilarity(fp_allchem_benzene, fp_rdfpgen_aniline)\n",
    "print(f\"Tanimoto Similarity: {similarity:.3f}\")\n"
   ]
  },
  {
   "cell_type": "code",
   "execution_count": null,
   "id": "b56c34ed-0176-4599-9c0a-25d9f7a7c0d9",
   "metadata": {},
   "outputs": [
    {
     "data": {
      "image/jpeg": "[encoded data removed]",
      "image/png": "[encoded data removed]",
      "text/plain": [
       "<PIL.PngImagePlugin.PngImageFile image mode=RGB size=300x300>"
      ]
     },
     "metadata": {},
     "output_type": "display_data"
    },
    {
     "name": "stdout",
     "output_type": "stream",
     "text": [
      "[0 0 0 0 0 0 0 0 0 0 0 0 0 0 0 0 0 0 0 0 0 0 0 0 0 0 0 0 0 0 0 0 0 0 0 0 0\n",
      " 0 0 0 0 0 0 0 0 0 0 0 0 0 0 0 0 0 0 0 0 0 0 0 0 0 0 0 0 0 0 0 0 0 0 0 0 0\n",
      " 0 0 0 0 0 0 0 0 0 0 0 0 1 0 0 0 0 0 0 1 0 0 0 0 0 0 0 0 0 0 0 0 0 0 0 1 0\n",
      " 0 0 0 1 1 0 0 0 0 0 0 0 0 0 0 1 0 0 0 0 0 0 0 0 0 0 0 0 0 0 0 0 0 0 0 0 0\n",
      " 0 1 0 0 0 1 0 1 0 1 0 0 1 0 0 0 1 0 0]\n"
     ]
    },
    {
     "data": {
      "text/plain": [
       "167"
      ]
     },
     "execution_count": 119,
     "metadata": {},
     "output_type": "execute_result"
    }
   ],
   "source": [
    "from rdkit import Chem\n",
    "from rdkit.Chem import AllChem\n",
    "from rdkit.Chem import rdFingerprintGenerator\n",
    "from rdkit import DataStructs\n",
    "from rdkit.Chem import Draw\n",
    "\n",
    "mols = [Chem.MolFromSmiles('CCOC'), Chem.MolFromSmiles('CCO'),\n",
    "Chem.MolFromSmiles('COC')]\n",
    "\n",
    "# Generate MACCS (Molecular ACCess System) keys\n",
    "from rdkit.Chem import MACCSkeys\n",
    "display(Draw.MolToImage(mols[0]))\n",
    "Mkeys = MACCSkeys.GenMACCSKeys(mols[0])\n",
    "\n",
    "\n",
    "print(np.array(Mkeys))\n",
    "\n",
    "len(Mkeys)"
   ]
  },
  {
   "cell_type": "code",
   "execution_count": 120,
   "id": "7f748fe7-1fce-4e0a-baea-e677b6404b1a",
   "metadata": {},
   "outputs": [
    {
     "name": "stdout",
     "output_type": "stream",
     "text": [
      "[0 0 0 0 0 0 0 0 0 0 0 0 0 0 0 0 0 0 0 0 0 0 0 0 0 0 0 0 0 0 0 0 0 0 0 0 0\n",
      " 0 0 0 0 0 0 0 0 0 0 0 0 0 0 0 0 0 0 0 0 0 0 0 1 0 0 0 0 0 0 0 0 0 0 0 0 0\n",
      " 0 0 0 0 0 0 0 0 0 0 0 0 0 0 0 0 0 0 0 0 0 0 0 0 0 0 0 0 0 0 0 0 0 0 0 0 0\n",
      " 0 0 0 0 0 0 0 0 0 0 0 0 0 0 0 0 0 0 0 0 0 0 0 0 0 0 0 0 0 0 0 0 0 0 0 0 0\n",
      " 0 0 0 0 0 0 0 0 0 0 0 0 0 0 0 0 0 0 0 0 0 0 0 0 0 0 0 0 0 0 0 0 0 0 0 0 0\n",
      " 0 0 0 0 0 0 0 0 0 0 0 0 0 0 0 0 0 0 0 0 0 0 0 0 0 0 0 0 0 0 0 0 0 0 0 0 0\n",
      " 0 0 0 0 0 0 0 0 0 0 0 0 0 0 0 0 0 0 0 0 0 0 0 0 0 0 0 0 0 0 0 0 0 0 0 0 0\n",
      " 0 0 0 0 0 0 0 0 0 0 0 0 0 0 0 0 0 0 0 0 0 0 0 0 0 0 0 0 0 0 0 0 0 0 0 0 0\n",
      " 0 0 0 0 0 0 0 0 0 0 0 0 0 0 0 0 0 0 0 0 0 0 0 0 0 0 0 0 0 0 0 0 0 0 0 0 0\n",
      " 0 0 0 0 0 0 0 0 0 0 0 0 0 0 0 0 0 0 0 0 0 0 0 0 0 0 0 0 0 0 0 0 0 0 0 0 0\n",
      " 0 0 0 0 0 0 0 0 0 0 1 1 0 0 0 0 0 0 0 0 0 0 0 0 0 0 0 0 0 0 0 0 0 0 0 0 0\n",
      " 0 0 0 0 0 0 0 0 0 0 0 0 0 0 0 0 0 0 0 0 0 0 0 0 0 0 0 0 0 0 0 0 0 0 0 0 0\n",
      " 0 0 0 0 0 0 0 0 0 0 0 0 0 0 0 0 0 0 0 0 0 0 0 0 0 0 0 0 0 0 0 0 0 0 0 0 0\n",
      " 0 0 0 0 0 0 0 0 0 0 0 0 0 0 0 0 0 0 0 0 0 0 0 0 0 0 0 0 0 0 0]\n"
     ]
    }
   ],
   "source": [
    "import numpy as np\n",
    "\n",
    "from rdkit import Chem\n",
    "from rdkit.Chem import AllChem\n",
    "from rdkit.Chem import rdFingerprintGenerator\n",
    "from rdkit import DataStructs\n",
    "from rdkit.Chem import Draw\n",
    "\n",
    "mols = [Chem.MolFromSmiles('CCOC'), Chem.MolFromSmiles('CCO'),\n",
    "Chem.MolFromSmiles('COC')]\n",
    "\n",
    "atfpgen = rdFingerprintGenerator.GetAtomPairGenerator(fpSize=512)\n",
    "AP = atfpgen.GetFingerprint(mols[1])\n",
    "print(np.array(AP))"
   ]
  },
  {
   "cell_type": "code",
   "execution_count": 121,
   "id": "41f271f6-e3c4-46bf-844a-76e505ebc405",
   "metadata": {},
   "outputs": [
    {
     "name": "stdout",
     "output_type": "stream",
     "text": [
      "[0 0 0 0 0 0 0 0 0 0 0 0 0 0 0 0 0 0 0 0 0 0 0 0 0 0 0 0 0 0 0 0 0 0 0 0 0\n",
      " 0 0 0 0 0 0 0 0 0 0 0 0 0 0 0 0 0 0 0 0 0 0 0 0 0 0 0 0 0 0 0 0 0 0 0 0 0\n",
      " 0 0 0 0 0 0 1 1 0 0 0 0 0 0 0 0 0 0 0 0 0 0 0 0 0 0 0 0 0 0 0 0 0 0 0 0 0\n",
      " 0 0 0 0 0 0 0 0 0 0 0 0 0 0 0 0 0 0 0 0 0 0 0 0 0 0 0 0 0 1 0 0 0 0 0 0 0\n",
      " 0 0 0 0 0 0 0 0 0 0 0 0 0 0 0 0 1 1 0 0 0 0 0 0 1 0 0 0 0 0 0 0 1 0 0 0 0\n",
      " 0 0 0 0 0 0 0 0 0 0 0 0 0 0 0 0 0 0 0 0 0 0 0 0 0 0 0 1 0 0 0 0 0 0 0 1 1\n",
      " 0 0 0 0 0 0 0 0 0 0 0 0 0 0 0 0 0 0 0 0 0 0 0 0 0 0 0 0 0 0 0 0 0 0 0 0 0\n",
      " 0 0 0 0 0 0 0 0 0 0 0 0 0 0 0 0 0 0 0 0 0 0 0 0 0 0 0 0 0 0 0 0 0 1 1 0 0\n",
      " 0 0 0 0 0 0 0 0 0 0 0 0 0 0 0 0 0 0 0 0 0 0 0 0 0 0 0 0 0 0 0 0 0 0 0 0 0\n",
      " 0 0 0 0 0 0 0 0 0 0 0 0 0 0 0 0 0 0 0 0 0 0 0 1 1 0 0 0 0 0 0 0 0 0 0 0 0\n",
      " 0 0 0 0 0 0 0 0 0 0 1 1 1 0 0 0 0 0 0 0 0 0 0 0 0 0 0 0 0 0 0 0 0 0 0 0 0\n",
      " 0 0 0 0 0 0 0 0 0 0 0 0 0 0 0 0 0 0 0 0 0 0 0 0 0 1 1 0 0 0 0 0 0 0 0 0 0\n",
      " 0 0 0 0 0 0 0 0 1 1 0 0 0 0 0 0 0 0 0 0 0 0 0 0 0 0 0 0 0 0 0 0 0 0 0 0 0\n",
      " 0 0 0 0 0 0 0 0 0 0 0 0 0 0 0 0 0 0 0 0 0 0 0 0 0 0 0 0 0 0 0]\n"
     ]
    }
   ],
   "source": [
    "import numpy as np\n",
    "\n",
    "from rdkit import Chem\n",
    "from rdkit.Chem import AllChem\n",
    "from rdkit.Chem import rdFingerprintGenerator\n",
    "from rdkit import DataStructs\n",
    "from rdkit.Chem import Draw\n",
    "\n",
    "mols = [Chem.MolFromSmiles('CC(C)Cc1ccc(cc1)[C@@H](C)C(=O)O'), Chem.MolFromSmiles('CCO'),\n",
    "Chem.MolFromSmiles('COC')]\n",
    "\n",
    "# Calculate Topological-Torsions fingerprints\n",
    "ttgen = rdFingerprintGenerator.GetTopologicalTorsionGenerator(fpSize=512)\n",
    "ao = rdFingerprintGenerator.AdditionalOutput()\n",
    "ao.AllocateBitPaths()\n",
    "\n",
    "ttfp = ttgen.GetFingerprint(mols[0])\n",
    "\n",
    "ao.GetBitPaths()\n",
    "\n",
    "print(np.array(ttfp))"
   ]
  },
  {
   "cell_type": "code",
   "execution_count": 122,
   "id": "408b6801-fd7a-451c-a56a-41362dbbd884",
   "metadata": {},
   "outputs": [
    {
     "data": {
      "text/plain": [
       "(10, 12)"
      ]
     },
     "execution_count": 122,
     "metadata": {},
     "output_type": "execute_result"
    }
   ],
   "source": [
    "import numpy as np\n",
    "\n",
    "from rdkit import Chem\n",
    "from rdkit.Chem import AllChem\n",
    "from rdkit.Chem import rdFingerprintGenerator\n",
    "from rdkit import DataStructs\n",
    "from rdkit.Chem import Draw\n",
    "\n",
    "mols = [Chem.MolFromSmiles('c1ccccc1'), Chem.MolFromSmiles('CCO'),\n",
    "Chem.MolFromSmiles('COC')]\n",
    "\n",
    "# rdkit fp Path-based substructures (similar to Daylight fingerprints).Best For general-purpose similarity and substructure matching.\n",
    "# Bit Representation - Fast similarity searches (e.g., database search).\n",
    "# Calculate RDKit fingerprints\n",
    "rdkgen = rdFingerprintGenerator.GetRDKitFPGenerator(fpSize=2048)\n",
    "\n",
    "rdk5gen = rdFingerprintGenerator.GetRDKitFPGenerator(maxPath=5,fpSize=2048)\n",
    "rdk5gen.GetFingerprint(mols[0]).GetNumOnBits(),rdkgen.GetFingerprint(mols[0]).GetNumOnBits()"
   ]
  },
  {
   "cell_type": "code",
   "execution_count": 123,
   "id": "03ed448e-d2a0-4680-9015-cd67d18c1b34",
   "metadata": {},
   "outputs": [
    {
     "data": {
      "text/plain": [
       "((1873, 1088, 389),\n",
       " (1873, 1088, 389),\n",
       " (1873, 1088, 389),\n",
       " (1873, 1088, 389),\n",
       " (1873, 1088, 389),\n",
       " (1873, 1088, 389))"
      ]
     },
     "execution_count": 123,
     "metadata": {},
     "output_type": "execute_result"
    }
   ],
   "source": [
    "import numpy as np\n",
    "\n",
    "from rdkit import Chem\n",
    "from rdkit.Chem import AllChem\n",
    "from rdkit.Chem import rdFingerprintGenerator\n",
    "from rdkit import DataStructs\n",
    "from rdkit.Chem import Draw\n",
    "\n",
    "mols = [Chem.MolFromSmiles('c1ccccc1'), Chem.MolFromSmiles('CCO'),\n",
    "Chem.MolFromSmiles('COC')]\n",
    "\n",
    "# Calculate Morgan fingerprints\n",
    "mfpgen = rdFingerprintGenerator.GetMorganGenerator(radius=2,fpSize=2048)\n",
    "ao = rdFingerprintGenerator.AdditionalOutput()\n",
    "ao.AllocateAtomCounts()\n",
    "ao.AllocateAtomToBits()\n",
    "ao.AllocateBitInfoMap()\n",
    "\n",
    "# bit vectors:\n",
    "fp = mfpgen.GetFingerprint(mols[0],additionalOutput=ao)\n",
    "ao.GetBitInfoMap()\n",
    "ao.GetAtomCounts()\n",
    "ao.GetAtomToBits()\n"
   ]
  },
  {
   "cell_type": "code",
   "execution_count": 124,
   "id": "730fb058-9584-49c6-8415-f26dce1821a8",
   "metadata": {},
   "outputs": [
    {
     "name": "stdout",
     "output_type": "stream",
     "text": [
      "[1 1]\n"
     ]
    }
   ],
   "source": [
    "import numpy as np\n",
    "\n",
    "from rdkit import Chem\n",
    "from rdkit.Chem import AllChem\n",
    "from rdkit.Chem import rdFingerprintGenerator\n",
    "from rdkit import DataStructs\n",
    "from rdkit.Chem import Draw\n",
    "\n",
    "mols = [Chem.MolFromSmiles('c1ccccc1'), Chem.MolFromSmiles('CCO'),\n",
    "Chem.MolFromSmiles('COC')]\n",
    "\n",
    "# Calculate Feature Morgan fingerprints\n",
    "fmgen = rdFingerprintGenerator.GetMorganGenerator(radius=6,fpSize=2,\n",
    "                  atomInvariantsGenerator=rdFingerprintGenerator.GetMorganFeatureAtomInvGen())\n",
    "fmfp = fmgen.GetFingerprint(mols[0])\n",
    "\n",
    "print(np.array(fmfp))"
   ]
  },
  {
   "cell_type": "code",
   "execution_count": 125,
   "id": "96cce5cd-34e8-4d29-a813-627ff3771c4f",
   "metadata": {},
   "outputs": [
    {
     "name": "stdout",
     "output_type": "stream",
     "text": [
      "allchem fp:[0 0 0 0 0 0 0 1 0 0 1 0 0 1 1 0 0 1 0 1 0 0 0 0 0 0 0 0 0 0 0 0 0 0 0 0 0\n",
      " 0 0 0 0 0 1 0 0 0 0 0 1 0 1 0 0 1 0 0 0 0 1 1 0 0 0 1 0 0 0 0 0 0 0 1 0 1\n",
      " 0 0 1 0 0 0 0 1 0 0 0 0 0 0 0 0 0 0 0 0 1 1 0 0 0 0 0 0 0 0 0 0 0 1 0 0 0\n",
      " 0 0 0 0 0 1 0 0 0 0 0 0 1]\n",
      "rdkitfpgen fp:[0 0 0 0 0 0 0 1 0 0 1 0 0 1 1 0 0 1 0 1 0 0 0 0 0 0 0 0 0 0 0 0 0 0 0 0 0\n",
      " 0 0 0 0 0 1 0 0 0 0 0 1 0 1 0 0 1 0 0 0 0 1 1 0 0 0 1 0 0 0 0 0 0 0 1 0 1\n",
      " 0 0 1 0 0 0 0 1 0 0 0 0 0 0 0 0 0 0 0 0 1 1 0 0 0 0 0 0 0 0 0 0 0 1 0 0 0\n",
      " 0 0 0 0 0 1 0 0 0 0 0 0 1]\n"
     ]
    },
    {
     "name": "stderr",
     "output_type": "stream",
     "text": [
      "[13:01:31] DEPRECATION WARNING: please use MorganGenerator\n"
     ]
    }
   ],
   "source": [
    "# do 2 methods of generating morgan fps give same output\n",
    "\n",
    "from rdkit import Chem\n",
    "from rdkit.Chem import AllChem\n",
    "from rdkit.Chem import rdFingerprintGenerator\n",
    "from rdkit import DataStructs\n",
    "from rdkit.Chem import Draw\n",
    "\n",
    "info = {}\n",
    "\n",
    "mol = Chem.MolFromSmiles('C/C1=C\\\\C[C@H]([C+](C)C)CC/C(C)=C/CC1')\n",
    "fp1 = AllChem.GetMorganFingerprintAsBitVect(mol, useChirality=True, radius=2, nBits = 124, bitInfo=info)\n",
    "print(f\"allchem fp:{np.array(fp1)}\")\n",
    "\n",
    "\n",
    "mol = Chem.MolFromSmiles('C/C1=C\\\\C[C@H]([C+](C)C)CC/C(C)=C/CC1')\n",
    "morgan_fp_gen = rdFingerprintGenerator.GetMorganGenerator(includeChirality=True, radius=2, fpSize=124)\n",
    "\n",
    "fp = morgan_fp_gen.GetFingerprint(mol)\n",
    "print(f\"rdkitfpgen fp:{np.array(fp)}\")"
   ]
  },
  {
   "cell_type": "code",
   "execution_count": 126,
   "id": "be4a4a6d-09fd-4355-8464-673833cd90ea",
   "metadata": {},
   "outputs": [
    {
     "data": {
      "image/svg+xml": [
       "<svg xmlns=\"http://www.w3.org/2000/svg\" xmlns:rdkit=\"http://www.rdkit.org/xml\" xmlns:xlink=\"http://www.w3.org/1999/xlink\" version=\"1.1\" baseProfile=\"full\" xml:space=\"preserve\" width=\"150px\" height=\"150px\" viewBox=\"0 0 150 150\">\n",
       "<!-- END OF HEADER -->\n",
       "<rect style=\"opacity:1.0;fill:#FFFFFF;stroke:none\" width=\"150.0\" height=\"150.0\" x=\"0.0\" y=\"0.0\"> </rect>\n",
       "<ellipse cx=\"18.2\" cy=\"77.8\" rx=\"7.7\" ry=\"7.7\" class=\"atom-1\" style=\"fill:#CCCCCC;fill-rule:evenodd;stroke:#CCCCCC;stroke-width:1.0px;stroke-linecap:butt;stroke-linejoin:miter;stroke-opacity:1\"/>\n",
       "<ellipse cx=\"47.0\" cy=\"51.9\" rx=\"7.7\" ry=\"7.7\" class=\"atom-2\" style=\"fill:#CCCCCC;fill-rule:evenodd;stroke:#CCCCCC;stroke-width:1.0px;stroke-linecap:butt;stroke-linejoin:miter;stroke-opacity:1\"/>\n",
       "<ellipse cx=\"85.5\" cy=\"47.9\" rx=\"7.7\" ry=\"7.7\" class=\"atom-3\" style=\"fill:#9999E5;fill-rule:evenodd;stroke:#9999E5;stroke-width:1.0px;stroke-linecap:butt;stroke-linejoin:miter;stroke-opacity:1\"/>\n",
       "<ellipse cx=\"101.2\" cy=\"83.3\" rx=\"7.7\" ry=\"7.7\" class=\"atom-5\" style=\"fill:#CCCCCC;fill-rule:evenodd;stroke:#CCCCCC;stroke-width:1.0px;stroke-linecap:butt;stroke-linejoin:miter;stroke-opacity:1\"/>\n",
       "<ellipse cx=\"134.8\" cy=\"102.7\" rx=\"7.7\" ry=\"7.7\" class=\"atom-6\" style=\"fill:#CCCCCC;fill-rule:evenodd;stroke:#CCCCCC;stroke-width:1.0px;stroke-linecap:butt;stroke-linejoin:miter;stroke-opacity:1\"/>\n",
       "<path class=\"bond-0 atom-0 atom-1\" d=\"M 11.8,107.6 L 14.9,80.7 L 22.4,74.0 Z\" style=\"fill:#E5E5E5;fill-rule:evenodd;fill-opacity:1;stroke:#E5E5E5;stroke-width:0.5px;stroke-linecap:butt;stroke-linejoin:miter;stroke-opacity:1;\"/>\n",
       "<path class=\"bond-1 atom-1 atom-2\" d=\"M 14.9,80.7 L 47.0,51.9\" style=\"fill:none;fill-rule:evenodd;stroke:#000000;stroke-width:2.0px;stroke-linecap:butt;stroke-linejoin:miter;stroke-opacity:1\"/>\n",
       "<path class=\"bond-2 atom-2 atom-3\" d=\"M 47.0,51.9 L 85.5,47.9\" style=\"fill:none;fill-rule:evenodd;stroke:#000000;stroke-width:2.0px;stroke-linecap:butt;stroke-linejoin:miter;stroke-opacity:1\"/>\n",
       "<path class=\"bond-3 atom-3 atom-4\" d=\"M 85.5,47.9 L 93.6,10.0\" style=\"fill:none;fill-rule:evenodd;stroke:#000000;stroke-width:2.0px;stroke-linecap:butt;stroke-linejoin:miter;stroke-opacity:1\"/>\n",
       "<path class=\"bond-4 atom-3 atom-5\" d=\"M 85.5,47.9 L 101.2,83.3\" style=\"fill:none;fill-rule:evenodd;stroke:#000000;stroke-width:2.0px;stroke-linecap:butt;stroke-linejoin:miter;stroke-opacity:1\"/>\n",
       "<path class=\"bond-4 atom-3 atom-5\" d=\"M 91.6,47.3 L 105.8,79.2\" style=\"fill:none;fill-rule:evenodd;stroke:#000000;stroke-width:2.0px;stroke-linecap:butt;stroke-linejoin:miter;stroke-opacity:1\"/>\n",
       "<path class=\"bond-5 atom-5 atom-6\" d=\"M 101.2,83.3 L 134.8,102.7\" style=\"fill:none;fill-rule:evenodd;stroke:#000000;stroke-width:2.0px;stroke-linecap:butt;stroke-linejoin:miter;stroke-opacity:1\"/>\n",
       "<path class=\"bond-6 atom-6 atom-7\" d=\"M 134.8,102.7 L 128.1,133.7\" style=\"fill:none;fill-rule:evenodd;stroke:#E5E5E5;stroke-width:2.1px;stroke-linecap:butt;stroke-linejoin:miter;stroke-opacity:1\"/>\n",
       "<path d=\"M 45.4,53.3 L 47.0,51.9 L 48.9,51.7\" style=\"fill:none;stroke:#000000;stroke-width:2.0px;stroke-linecap:butt;stroke-linejoin:miter;stroke-opacity:1;\"/>\n",
       "<path d=\"M 100.4,81.5 L 101.2,83.3 L 102.9,84.3\" style=\"fill:none;stroke:#000000;stroke-width:2.0px;stroke-linecap:butt;stroke-linejoin:miter;stroke-opacity:1;\"/>\n",
       "<path d=\"M 133.9,102.2 L 134.8,102.7 L 134.6,103.4\" style=\"fill:none;stroke:#000000;stroke-width:2.0px;stroke-linecap:butt;stroke-linejoin:miter;stroke-opacity:1;\"/>\n",
       "<path class=\"atom-0\" d=\"M 8.0 114.5 L 9.6 112.8 L 7.5 112.4 L 7.8 111.3 L 9.8 112.3 L 9.5 110.1 L 10.7 110.1 L 10.4 112.3 L 12.3 111.3 L 12.7 112.4 L 10.5 112.8 L 12.1 114.4 L 11.1 115.1 L 10.1 113.1 L 9.0 115.1 L 8.0 114.5 \" fill=\"#191919\"/>\n",
       "<path class=\"atom-0\" d=\"M 13.8 110.3 L 15.3 110.3 L 15.3 115.0 L 20.9 115.0 L 20.9 110.3 L 22.4 110.3 L 22.4 121.3 L 20.9 121.3 L 20.9 116.2 L 15.3 116.2 L 15.3 121.3 L 13.8 121.3 L 13.8 110.3 \" fill=\"#191919\"/>\n",
       "<path class=\"atom-7\" d=\"M 124.6 139.3 L 126.2 137.7 L 124.1 137.2 L 124.4 136.1 L 126.4 137.1 L 126.1 135.0 L 127.3 135.0 L 126.9 137.1 L 128.9 136.2 L 129.3 137.2 L 127.1 137.7 L 128.6 139.3 L 127.7 140.0 L 126.6 137.9 L 125.6 140.0 L 124.6 139.3 \" fill=\"#191919\"/>\n",
       "</svg>"
      ],
      "text/plain": [
       "<IPython.core.display.SVG object>"
      ]
     },
     "metadata": {},
     "output_type": "display_data"
    },
    {
     "data": {
      "image/svg+xml": [
       "<svg xmlns=\"http://www.w3.org/2000/svg\" xmlns:rdkit=\"http://www.rdkit.org/xml\" xmlns:xlink=\"http://www.w3.org/1999/xlink\" version=\"1.1\" baseProfile=\"full\" xml:space=\"preserve\" width=\"150px\" height=\"150px\" viewBox=\"0 0 150 150\">\n",
       "<!-- END OF HEADER -->\n",
       "<rect style=\"opacity:1.0;fill:#FFFFFF;stroke:none\" width=\"150.0\" height=\"150.0\" x=\"0.0\" y=\"0.0\"> </rect>\n",
       "<path class=\"bond-0 atom-0 atom-1\" d=\"M 125.0,116.0 L 103.9,68.6\" style=\"fill:none;fill-rule:evenodd;stroke:#000000;stroke-width:2.0px;stroke-linecap:butt;stroke-linejoin:miter;stroke-opacity:1\"/>\n",
       "<path class=\"bond-1 atom-1 atom-2\" d=\"M 102.9,59.1 L 59.1,42.7\" style=\"fill:none;fill-rule:evenodd;stroke:#000000;stroke-width:2.0px;stroke-linecap:butt;stroke-linejoin:miter;stroke-opacity:1\"/>\n",
       "<path class=\"bond-1 atom-1 atom-2\" d=\"M 103.9,68.6 L 57.4,50.7\" style=\"fill:none;fill-rule:evenodd;stroke:#000000;stroke-width:2.0px;stroke-linecap:butt;stroke-linejoin:miter;stroke-opacity:1\"/>\n",
       "<path class=\"bond-2 atom-2 atom-3\" d=\"M 59.1,42.7 L 7.5,48.1\" style=\"fill:none;fill-rule:evenodd;stroke:#000000;stroke-width:2.0px;stroke-linecap:butt;stroke-linejoin:miter;stroke-opacity:1\"/>\n",
       "<path class=\"bond-3 atom-4 atom-1\" d=\"M 142.5,34.0 L 103.9,68.6\" style=\"fill:none;fill-rule:evenodd;stroke:#000000;stroke-width:2.0px;stroke-linecap:butt;stroke-linejoin:miter;stroke-opacity:1\"/>\n",
       "<path d=\"M 61.3,43.5 L 59.1,42.7 L 56.5,43.0\" style=\"fill:none;stroke:#000000;stroke-width:2.0px;stroke-linecap:butt;stroke-linejoin:miter;stroke-opacity:1;\"/>\n",
       "</svg>"
      ],
      "text/plain": [
       "<IPython.core.display.SVG object>"
      ]
     },
     "metadata": {},
     "output_type": "display_data"
    }
   ],
   "source": [
    "from rdkit import Chem\n",
    "from rdkit.Chem import AllChem\n",
    "from rdkit.Chem import rdFingerprintGenerator\n",
    "from rdkit import DataStructs\n",
    "from rdkit.Chem import Draw\n",
    "\n",
    "\n",
    "mol = Chem.MolFromSmiles('C/C1=C\\\\C[C@H]([C+](C)C)CC/C(C)=C/CC1')\n",
    "\n",
    "fpgen1 = AllChem.GetMorganGenerator(radius=2)\n",
    "ao = AllChem.AdditionalOutput()\n",
    "ao.CollectBitInfoMap()\n",
    "fp = fpgen1.GetFingerprint(mol,additionalOutput=ao)\n",
    "bi = ao.GetBitInfoMap()\n",
    "mfp2_svg = Draw.DrawMorganBit(mol, 872, bi, useSVG=True)\n",
    "display(mfp2_svg )\n",
    "\n",
    "fpgen = AllChem.GetRDKitFPGenerator()\n",
    "ao = AllChem.AdditionalOutput()\n",
    "ao.CollectBitPaths()\n",
    "fp = fpgen.GetFingerprint(mol,additionalOutput=ao)\n",
    "rdkbi = ao.GetBitPaths()\n",
    "bit_info = ao.GetBitPaths()\n",
    "rdk_svg = Draw.DrawRDKitBit(mol, 8, rdkbi, useSVG=True)\n",
    "display(rdk_svg)"
   ]
  }
 ],
 "metadata": {
  "kernelspec": {
   "display_name": "Python (my-rdkit-env)",
   "language": "python",
   "name": "my-rdkit-env"
  },
  "language_info": {
   "codemirror_mode": {
    "name": "ipython",
    "version": 3
   },
   "file_extension": ".py",
   "mimetype": "text/x-python",
   "name": "python",
   "nbconvert_exporter": "python",
   "pygments_lexer": "ipython3",
   "version": "3.13.0"
  }
 },
 "nbformat": 4,
 "nbformat_minor": 5
}
