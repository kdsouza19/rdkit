{
 "cells": [
  {
   "cell_type": "code",
   "execution_count": 109,
   "id": "473436ed-1ad1-4dc6-8c30-7d9236071fc4",
   "metadata": {},
   "outputs": [],
   "source": [
    "from rdkit import Chem\n",
    "from rdkit.Chem import Draw\n",
    "from IPython.display import display\n"
   ]
  },
  {
   "cell_type": "code",
   "execution_count": 15,
   "id": "a2e5cb51-2902-493c-bfab-fd9664554ede",
   "metadata": {},
   "outputs": [
    {
     "name": "stdout",
     "output_type": "stream",
     "text": [
      "\n",
      "     RDKit          2D\n",
      "\n",
      " 10 11  0  0  0  0  0  0  0  0999 V2000\n",
      "    1.2760    0.0000    0.0000 C   0  0  0  0  0  0  0  0  0  0  0  0\n",
      "    0.3943    1.2135    0.0000 N   0  0  0  0  0  0  0  0  0  0  0  0\n",
      "   -1.0323    0.7500    0.0000 C   0  0  0  0  0  0  0  0  0  0  0  0\n",
      "   -2.3313    1.5000    0.0000 N   0  0  0  0  0  0  0  0  0  0  0  0\n",
      "   -3.6304    0.7500    0.0000 C   0  0  0  0  0  0  0  0  0  0  0  0\n",
      "   -3.6304   -0.7500    0.0000 N   0  0  0  0  0  0  0  0  0  0  0  0\n",
      "   -2.3313   -1.5000    0.0000 C   0  0  0  0  0  0  0  0  0  0  0  0\n",
      "   -1.0323   -0.7500    0.0000 C   0  0  0  0  0  0  0  0  0  0  0  0\n",
      "    0.3943   -1.2135    0.0000 N   0  0  0  0  0  0  0  0  0  0  0  0\n",
      "   -2.3313   -3.0000    0.0000 N   0  0  0  0  0  0  0  0  0  0  0  0\n",
      "  1  2  2  0\n",
      "  2  3  1  0\n",
      "  3  4  2  0\n",
      "  4  5  1  0\n",
      "  5  6  2  0\n",
      "  6  7  1  0\n",
      "  7  8  2  0\n",
      "  8  9  1  0\n",
      "  7 10  1  0\n",
      "  9  1  1  0\n",
      "  8  3  1  0\n",
      "M  END\n",
      "\n"
     ]
    }
   ],
   "source": [
    "from rdkit import Chem\n",
    "\n",
    "mol = Chem.MolFromSmiles(r\"C1=NC2=NC=NC(=C2N1)N\")\n",
    "print(Chem.MolToMolBlock(mol))"
   ]
  },
  {
   "cell_type": "code",
   "execution_count": 3,
   "id": "3684cfc4-7f62-479b-a2b2-ad0faf24bf30",
   "metadata": {},
   "outputs": [
    {
     "name": "stdout",
     "output_type": "stream",
     "text": [
      "((0, 1, 2, 7, 8), (3, 4, 5, 6, 7, 2))\n",
      "Atom Indices in Ring 0: (0, 1, 2, 7, 8)\n",
      "Atom Symbols in Ring 0:\n",
      "Atom 0 : C\n",
      "Atom 1 : N\n",
      "Atom 2 : C\n",
      "Atom 7 : C\n",
      "Atom 8 : N\n"
     ]
    }
   ],
   "source": [
    "from rdkit import Chem\n",
    "from rdkit.Chem import Draw\n",
    "from IPython.display import display\n",
    "mol = Chem.MolFromSmiles(r\"C1=NC2=NC=NC(=C2N1)N\")\n",
    "\n",
    "ring_info = mol.GetRingInfo()\n",
    "periodic = Chem.GetPeriodicTable()\n",
    "# Get atom indices in rings\n",
    "atom_rings = ring_info.AtomRings()\n",
    "print(atom_rings)\n",
    "# Print the atom indices in the ring\n",
    "print(\"Atom Indices in Ring 0:\", atom_rings[0])\n",
    "\n",
    "# Print the atom symbols for Ring 0\n",
    "print(\"Atom Symbols in Ring 0:\")\n",
    "for idx in atom_rings[0]:  # For the first (and only) ring\n",
    "    atom = mol.GetAtomWithIdx(idx)  # Get the atom by index\n",
    "    print(f\"Atom {atom.GetIdx()} : {periodic.GetElementSymbol(atom.GetAtomicNum())}\")\n",
    "\n"
   ]
  },
  {
   "cell_type": "code",
   "execution_count": 13,
   "id": "3f017ebf-34f4-4c5f-b32d-e0d4435b2ad0",
   "metadata": {},
   "outputs": [
    {
     "name": "stdout",
     "output_type": "stream",
     "text": [
      "Atom Indices in Ring 0: (0, 1, 2, 7, 8)\n",
      "Atom Indices in Ring 1: (3, 4, 5, 6, 7, 2)\n",
      "\n",
      "All Atom Indices and Symbols in the Molecule:\n",
      "Atom 0 : C\n",
      "Atom 1 : N\n",
      "Atom 2 : C\n",
      "Atom 3 : N\n",
      "Atom 4 : C\n",
      "Atom 5 : N\n",
      "Atom 6 : C\n",
      "Atom 7 : C\n",
      "Atom 8 : N\n",
      "Atom 9 : N\n",
      "\n",
      "Atom Symbols in Ring 0:\n",
      "Atom 0 : C\n",
      "Atom 1 : N\n",
      "Atom 2 : C\n",
      "Atom 7 : C\n",
      "Atom 8 : N\n",
      "\n",
      "Atom Symbols in Ring 1:\n",
      "Atom 3 : N\n",
      "Atom 4 : C\n",
      "Atom 5 : N\n",
      "Atom 6 : C\n",
      "Atom 7 : C\n",
      "Atom 2 : C\n"
     ]
    }
   ],
   "source": [
    "from rdkit import Chem\n",
    "\n",
    "# Define the molecule (pyrimidine derivative with nitrogen atoms in a ring)\n",
    "smiles = 'C1=NC2=NC=NC(=C2N1)N'\n",
    "mol = Chem.MolFromSmiles(smiles)\n",
    "\n",
    "# Check if molecule is correctly parsed\n",
    "if mol is None:\n",
    "    print(\"Error: Molecule could not be parsed!\")\n",
    "else:\n",
    "    # Get ring information\n",
    "    ring_info = mol.GetRingInfo()\n",
    "\n",
    "    # Get the periodic table\n",
    "    periodic = Chem.GetPeriodicTable()\n",
    "\n",
    "    # Get atom indices in rings\n",
    "    atom_rings = ring_info.AtomRings()\n",
    "\n",
    "    # Print the atom indices in the first ring\n",
    "    for i, ring in enumerate(atom_rings):\n",
    "        print(f\"Atom Indices in Ring {i}: {ring}\")\n",
    "\n",
    "    # Print the atom symbols for all atoms in the molecule\n",
    "    print(\"\\nAll Atom Indices and Symbols in the Molecule:\")\n",
    "    for atom in mol.GetAtoms():\n",
    "        print(f\"Atom {atom.GetIdx()} : {periodic.GetElementSymbol(atom.GetAtomicNum())}\")\n",
    "\n",
    "    # Print the atom symbols for Ring 0\n",
    "    for i, ring in enumerate(atom_rings):\n",
    "        print(f\"\\nAtom Symbols in Ring {i}:\")\n",
    "        for idx in ring:  # For each atom in the ring\n",
    "            atom = mol.GetAtomWithIdx(idx)  # Get the atom by index\n",
    "            # Print the atom index and its symbol using the periodic table\n",
    "            print(f\"Atom {atom.GetIdx()} : {periodic.GetElementSymbol(atom.GetAtomicNum())}\")\n",
    "            "
   ]
  },
  {
   "cell_type": "code",
   "execution_count": 151,
   "id": "91001a6a-a17d-4268-aaeb-cace17039dba",
   "metadata": {},
   "outputs": [
    {
     "name": "stdout",
     "output_type": "stream",
     "text": [
      "All Atom Rings:\n",
      "Ring 0: Atoms (0, 1, 2, 7, 8)\n",
      "Ring 1: Atoms (3, 4, 5, 6, 7, 2)\n",
      "\n",
      "Atom Symbols in Ring 0:\n",
      "Atom 0 : C\n",
      "Atom 1 : N\n",
      "Atom 2 : C\n",
      "Atom 7 : C\n",
      "Atom 8 : N\n",
      "\n",
      "Bond Information in Ring 0:\n",
      "Bond 0 : AROMATIC\n",
      "Bond 1 : AROMATIC\n",
      "Bond 10 : AROMATIC\n",
      "Bond 7 : AROMATIC\n",
      "Bond 9 : AROMATIC\n"
     ]
    }
   ],
   "source": [
    "from rdkit import Chem\n",
    "\n",
    "smiles = 'C1=NC2=NC=NC(=C2N1)N'\n",
    "mol = Chem.MolFromSmiles(smiles)\n",
    "\n",
    "if mol is None:\n",
    "    print(\"Error: Molecule could not be parsed!\")\n",
    "else:\n",
    "    # Get ring information\n",
    "    ring_info = mol.GetRingInfo()\n",
    "\n",
    "    # Get atom indices in rings\n",
    "    atom_rings = ring_info.AtomRings()\n",
    "\n",
    "    # Print all the atom rings and their corresponding atom indices\n",
    "    print(\"All Atom Rings:\")\n",
    "    for i, ring in enumerate(atom_rings):\n",
    "        print(f\"Ring {i}: Atoms {ring}\")\n",
    "\n",
    "    # Print the atom symbols for Ring 0 \n",
    "    print(\"\\nAtom Symbols in Ring 0:\")\n",
    "    for idx in atom_rings[0]:  # For the first ring\n",
    "        atom = mol.GetAtomWithIdx(idx)  # Get the atom by index\n",
    "        print(f\"Atom {atom.GetIdx()} : {atom.GetSymbol()}\")\n",
    "\n",
    "    # check for aromaticity and bond info in the rings\n",
    "    print(\"\\nBond Information in Ring 0:\")\n",
    "    bond_rings = ring_info.BondRings()\n",
    "    for bond_idx in bond_rings[0]:\n",
    "        bond = mol.GetBondWithIdx(bond_idx)\n",
    "        print(f\"Bond {bond.GetIdx()} : {bond.GetBondType()}\")\n"
   ]
  },
  {
   "cell_type": "code",
   "execution_count": 164,
   "id": "c34925b7-e027-4767-bf1c-7046510cb59d",
   "metadata": {},
   "outputs": [
    {
     "name": "stdout",
     "output_type": "stream",
     "text": [
      "\n",
      "Atom Symbols in Ring 0:\n",
      "Atom 0 : C\n",
      "Atom 1 : N\n",
      "Atom 2 : C\n",
      "Atom 7 : C\n",
      "Atom 8 : N\n",
      "\n",
      "Atom Symbols in Ring 1:\n",
      "Atom 3 : N\n",
      "Atom 4 : C\n",
      "Atom 5 : N\n",
      "Atom 6 : C\n",
      "Atom 7 : C\n",
      "Atom 2 : C\n"
     ]
    }
   ],
   "source": [
    "from rdkit import Chem\n",
    "\n",
    "# Define the molecule \n",
    "smiles = 'C1=NC2=NC=NC(=C2N1)N'\n",
    "mol = Chem.MolFromSmiles(smiles)\n",
    "\n",
    "if mol:\n",
    "    # Get ring information and periodic table\n",
    "    ring_info = mol.GetRingInfo()\n",
    "    periodic = Chem.GetPeriodicTable()\n",
    "\n",
    "    # Get atom indices in rings\n",
    "    atom_rings = ring_info.AtomRings()\n",
    "\n",
    "    # Print atom symbols in rings\n",
    "    for i, ring in enumerate(atom_rings):\n",
    "        print(f\"\\nAtom Symbols in Ring {i}:\")\n",
    "        for idx in ring:\n",
    "            atom = mol.GetAtomWithIdx(idx)\n",
    "            print(f\"Atom {atom.GetIdx()} : {periodic.GetElementSymbol(atom.GetAtomicNum())}\")\n",
    "else:\n",
    "    print(\"Error\")"
   ]
  },
  {
   "cell_type": "code",
   "execution_count": 175,
   "id": "7c175edb-bc82-489f-bce1-8e9acad71c10",
   "metadata": {},
   "outputs": [
    {
     "name": "stdout",
     "output_type": "stream",
     "text": [
      "Before Kekulization:\n",
      "Bond 0 : AROMATIC\n",
      "Bond 1 : AROMATIC\n",
      "Bond 2 : AROMATIC\n",
      "Bond 3 : AROMATIC\n",
      "Bond 4 : AROMATIC\n",
      "Bond 5 : AROMATIC\n",
      "Bond 6 : AROMATIC\n",
      "Bond 7 : AROMATIC\n",
      "Bond 8 : SINGLE\n",
      "Bond 9 : AROMATIC\n",
      "Bond 10 : AROMATIC\n",
      "\n",
      "After Kekulization:\n",
      "Bond 0 : DOUBLE\n",
      "Bond 1 : SINGLE\n",
      "Bond 2 : DOUBLE\n",
      "Bond 3 : SINGLE\n",
      "Bond 4 : DOUBLE\n",
      "Bond 5 : SINGLE\n",
      "Bond 6 : DOUBLE\n",
      "Bond 7 : SINGLE\n",
      "Bond 8 : SINGLE\n",
      "Bond 9 : SINGLE\n",
      "Bond 10 : SINGLE\n"
     ]
    }
   ],
   "source": [
    "from rdkit import Chem\n",
    "\n",
    "# Define the molecule\n",
    "smiles = 'C1=NC2=NC=NC(=C2N1)N'\n",
    "mol = Chem.MolFromSmiles(smiles)\n",
    "\n",
    "# Print bond types before Kekulization\n",
    "print(\"Before Kekulization:\")\n",
    "for bond in mol.GetBonds():\n",
    "    print(f\"Bond {bond.GetIdx()} : {bond.GetBondType()}\")\n",
    "\n",
    "# Kekulize the molecule\n",
    "Chem.Kekulize(mol)\n",
    "\n",
    "# Print bond types after Kekulization\n",
    "print(\"\\nAfter Kekulization:\")\n",
    "for bond in mol.GetBonds():\n",
    "    print(f\"Bond {bond.GetIdx()} : {bond.GetBondType()}\")"
   ]
  },
  {
   "cell_type": "code",
   "execution_count": 7,
   "id": "226f9621-9b4d-4f3a-87e5-495591e7bb38",
   "metadata": {
    "scrolled": true
   },
   "outputs": [
    {
     "name": "stdout",
     "output_type": "stream",
     "text": [
      "AROMATIC bond exists between atom 0 and atom 1\n",
      "AROMATIC bond exists between atom 1 and atom 2\n",
      "AROMATIC bond exists between atom 2 and atom 3\n",
      "AROMATIC bond exists between atom 3 and atom 4\n",
      "AROMATIC bond exists between atom 4 and atom 5\n",
      "AROMATIC bond exists between atom 5 and atom 6\n",
      "AROMATIC bond exists between atom 6 and atom 7\n",
      "AROMATIC bond exists between atom 7 and atom 8\n",
      "SINGLE bond exists between atom 6 and atom 9\n",
      "AROMATIC bond exists between atom 8 and atom 0\n",
      "AROMATIC bond exists between atom 7 and atom 2\n"
     ]
    }
   ],
   "source": [
    "from rdkit import Chem\n",
    "\n",
    "# Define the molecule\n",
    "smiles = 'C1=NC2=NC=NC(=C2N1)N'\n",
    "mol = Chem.MolFromSmiles(smiles)\n",
    "\n",
    "# Get bond type between two atoms \n",
    "for bond in mol.GetBonds():\n",
    "    print(f\"{bond.GetBondType()} bond exists between atom {bond.GetBeginAtomIdx()} and atom {bond.GetEndAtomIdx()}\")"
   ]
  },
  {
   "cell_type": "code",
   "execution_count": 11,
   "id": "da53ce61-7a98-472f-be7d-122d9e151654",
   "metadata": {},
   "outputs": [
    {
     "name": "stdout",
     "output_type": "stream",
     "text": [
      "Bond 0 is aromatic: True\n",
      "Bond 1 is aromatic: True\n",
      "Bond 2 is aromatic: True\n",
      "Bond 3 is aromatic: True\n",
      "Bond 4 is aromatic: True\n",
      "Bond 5 is aromatic: True\n",
      "Bond 6 is aromatic: True\n",
      "Bond 7 is aromatic: True\n",
      "Bond 8 is aromatic: False\n",
      "Bond 9 is aromatic: True\n",
      "Bond 10 is aromatic: True\n"
     ]
    }
   ],
   "source": [
    "from rdkit import Chem\n",
    "\n",
    "# Define the molecule\n",
    "smiles = 'C1=NC2=NC=NC(=C2N1)N'\n",
    "mol = Chem.MolFromSmiles(smiles)\n",
    "\n",
    "# Get aromaticity\n",
    "for bond in mol.GetBonds():\n",
    "    is_aromatic = bond.GetIsAromatic()\n",
    "    print(f\"Bond {bond.GetIdx()} is aromatic: {is_aromatic}\")\n",
    "\n",
    "# Check if rings are fused\n"
   ]
  },
  {
   "cell_type": "code",
   "execution_count": 12,
   "id": "14213d56-4ad2-478a-800d-409c64e01bbf",
   "metadata": {},
   "outputs": [
    {
     "name": "stdout",
     "output_type": "stream",
     "text": [
      "Rings 0 and 1 are fused.\n",
      "Rings 1 and 2 are fused.\n"
     ]
    }
   ],
   "source": [
    "from rdkit import Chem\n",
    "\n",
    "smiles = \"C1=CC=C2C=CC3=CC=CC=C3C2=C1\"\n",
    "mol = Chem.MolFromSmiles(smiles)\n",
    "\n",
    "# Get ring information\n",
    "ring_info = mol.GetRingInfo()\n",
    "num_rings = len(ring_info.AtomRings())\n",
    "\n",
    "# Check if any rings are fused\n",
    "for i in range(num_rings):\n",
    "    for j in range(i + 1, num_rings):  # do this to avoid duplicate comparisons\n",
    "        if ring_info.AreRingsFused(i, j):\n",
    "            print(f\"Rings {i} and {j} are fused.\")"
   ]
  },
  {
   "cell_type": "code",
   "execution_count": null,
   "id": "29d476ef-8afc-4663-9686-e7d05c4f3e5f",
   "metadata": {},
   "outputs": [],
   "source": [
    "# Modifying molecules\n",
    "\n",
    "smiles = \"C1=CC=C2C=CC3=CC=CC=C3C2=C1\"\n",
    "mol = Chem.MolFromSmiles(smiles)\n",
    "\n",
    "mol.RemoveHs()\n",
    "mol.AddHs()\n",
    "mol.Kekulize() #changes aromatic bonds to single or double\n",
    "Chem.SanitizeMol(mol) #cleans up structure and restores aromaticity if you've kekulized\n",
    "\n"
   ]
  }
 ],
 "metadata": {
  "kernelspec": {
   "display_name": "Python (my-rdkit-env)",
   "language": "python",
   "name": "my-rdkit-env"
  },
  "language_info": {
   "codemirror_mode": {
    "name": "ipython",
    "version": 3
   },
   "file_extension": ".py",
   "mimetype": "text/x-python",
   "name": "python",
   "nbconvert_exporter": "python",
   "pygments_lexer": "ipython3",
   "version": "3.13.0"
  }
 },
 "nbformat": 4,
 "nbformat_minor": 5
}
